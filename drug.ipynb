{
 "cells": [
  {
   "cell_type": "code",
   "execution_count": 1,
   "metadata": {},
   "outputs": [],
   "source": [
    "import requests\n",
    "from bs4 import BeautifulSoup\n",
    "import time"
   ]
  },
  {
   "cell_type": "code",
   "execution_count": 4,
   "metadata": {},
   "outputs": [],
   "source": [
    "res = requests.get('https://drugshortage.jp/log.php')\n",
    "soup = BeautifulSoup(res.text, 'html.parser')"
   ]
  },
  {
   "cell_type": "code",
   "execution_count": 33,
   "metadata": {},
   "outputs": [],
   "source": [
    "textarea = soup.find('textarea')"
   ]
  },
  {
   "cell_type": "code",
   "execution_count": 36,
   "metadata": {},
   "outputs": [
    {
     "data": {
      "text/plain": [
       "['2021年11月27日：(販売中止：2021年11月26日)モンテルカストＯＤ錠１０ｍｇ「タカタ」 ＰＴＰ 14錠：420錠包装',\n",
       " '2021年11月27日：(出荷調整：2021年11月26日)ドンペリドン錠５ｍｇ「杏林」 ＰＴＰ 10錠：100錠包装',\n",
       " '2021年11月27日：(出荷調整：2021年11月26日)クラリスロマイシン錠５０ｍｇ小児用「杏林」 ＰＴＰ 10錠：100錠包装',\n",
       " '2021年11月27日：(出荷調整：2021年11月26日)ドンペリドン錠１０ｍｇ「杏林」 ＰＴＰ 10錠：100錠包装',\n",
       " '2021年11月27日：(出荷調整：2021年11月26日)ドンペリドン錠１０ｍｇ「杏林」 ＰＴＰ 10錠：1000錠包装']"
      ]
     },
     "execution_count": 36,
     "metadata": {},
     "output_type": "execute_result"
    }
   ],
   "source": [
    "dataList = textarea.string.splitlines()\n",
    "dataList = dataList[3:(len(dataList)-1)] # 先頭3行と最後1行はムダデータなので削除\n",
    "list(map(lambda x: x.replace('\\u3000', '：'), dataList)) #unicodeのスペースを：に置き換える"
   ]
  },
  {
   "cell_type": "code",
   "execution_count": 84,
   "metadata": {},
   "outputs": [],
   "source": [
    "class Medicine:\n",
    "    def __init__(self, updateAt, type, date, name, sheet, unit, housou):\n",
    "        self.updateAt = updateAt\n",
    "        self.type = type\n",
    "        self.date = date\n",
    "        self.name = name\n",
    "        self.sheet = sheet\n",
    "        self.unit = unit\n",
    "        self.housou = housou\n",
    "\n",
    "    # dataListを受け取って、Medicineクラスのインスタンスを返す\n",
    "    def create(dataList):\n",
    "        updateAt = list(map(lambda x: x.split('：')[0], dataList)) \n",
    "        type = list(map(lambda x: x.split('：')[1][1:], dataList)) \n",
    "        date = list(map(lambda x: x.split('：')[2].split(')')[0], dataList))\n",
    "        name = list(map(lambda x: x.split('：')[2].split(')')[1].split(' ')[0], dataList))\n",
    "        sheet = list(map(lambda x: x.split('：')[2].split(')')[1].split(' ')[1], dataList))\n",
    "        unit = list(map(lambda x: x.split('：')[2].split(')')[1].split(' ')[2].split('\\u3000')[0], dataList))\n",
    "        housou = list(map(lambda x: x.split('：')[2].split(')')[1].split(' ')[2].split('\\u3000')[1], dataList)) \n",
    "\n",
    "        length = len(dataList)\n",
    "\n",
    "        return list(map(lambda x: Medicine(updateAt[x], type[x], date[x], name[x], sheet[x], unit[x], housou[x]), range(length)))"
   ]
  },
  {
   "cell_type": "code",
   "execution_count": 85,
   "metadata": {},
   "outputs": [],
   "source": [
    "medList = Medicine.create(dataList)"
   ]
  },
  {
   "cell_type": "code",
   "execution_count": 87,
   "metadata": {},
   "outputs": [
    {
     "data": {
      "text/plain": [
       "'モンテルカストＯＤ錠１０ｍｇ「タカタ」'"
      ]
     },
     "execution_count": 87,
     "metadata": {},
     "output_type": "execute_result"
    }
   ],
   "source": [
    "medList[0].name"
   ]
  },
  {
   "cell_type": "code",
   "execution_count": 69,
   "metadata": {},
   "outputs": [],
   "source": [
    "# updateAt = list(map(lambda x: x.split('：')[0], dataList)) \n",
    "# type = list(map(lambda x: x.split('：')[1][1:], dataList)) \n",
    "# date = list(map(lambda x: x.split('：')[2].split(')')[0], dataList))\n",
    "# name = list(map(lambda x: x.split('：')[2].split(')')[1].split(' ')[0], dataList))\n",
    "# sheet = list(map(lambda x: x.split('：')[2].split(')')[1].split(' ')[1], dataList))\n",
    "# unit = list(map(lambda x: x.split('：')[2].split(')')[1].split(' ')[2].split('\\u3000')[0], dataList))\n",
    "# housou = list(map(lambda x: x.split('：')[2].split(')')[1].split(' ')[2].split('\\u3000')[1], dataList)) "
   ]
  },
  {
   "cell_type": "code",
   "execution_count": null,
   "metadata": {},
   "outputs": [],
   "source": []
  }
 ],
 "metadata": {
  "interpreter": {
   "hash": "05fda0b18481f2b952849d68ae788ff0698a12b09f2e3d0dba00142652f1739c"
  },
  "kernelspec": {
   "display_name": "Python 3.8.8 64-bit ('base': conda)",
   "language": "python",
   "name": "python3"
  },
  "language_info": {
   "codemirror_mode": {
    "name": "ipython",
    "version": 3
   },
   "file_extension": ".py",
   "mimetype": "text/x-python",
   "name": "python",
   "nbconvert_exporter": "python",
   "pygments_lexer": "ipython3",
   "version": "3.8.8"
  },
  "orig_nbformat": 4
 },
 "nbformat": 4,
 "nbformat_minor": 2
}
