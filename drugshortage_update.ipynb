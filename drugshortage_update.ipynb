{
 "cells": [
  {
   "cell_type": "code",
   "execution_count": 13,
   "metadata": {},
   "outputs": [],
   "source": [
    "import requests\n",
    "from bs4 import BeautifulSoup\n",
    "import time\n",
    "import pandas as pd\n",
    "\n",
    "from medicine import Medicine\n",
    "from medicine import convertToDF"
   ]
  },
  {
   "cell_type": "code",
   "execution_count": 2,
   "metadata": {},
   "outputs": [],
   "source": [
    "res = requests.get('https://drugshortage.jp/log.php')\n",
    "soup = BeautifulSoup(res.text, 'html.parser')"
   ]
  },
  {
   "cell_type": "code",
   "execution_count": 3,
   "metadata": {},
   "outputs": [],
   "source": [
    "textarea = soup.find('textarea')"
   ]
  },
  {
   "cell_type": "code",
   "execution_count": 4,
   "metadata": {},
   "outputs": [
    {
     "data": {
      "text/plain": [
       "['2021年11月27日：(販売中止：2021年11月26日)モンテルカストＯＤ錠１０ｍｇ「タカタ」 ＰＴＰ 14錠：420錠包装',\n",
       " '2021年11月27日：(出荷調整：2021年11月26日)ドンペリドン錠５ｍｇ「杏林」 ＰＴＰ 10錠：100錠包装',\n",
       " '2021年11月27日：(出荷調整：2021年11月26日)クラリスロマイシン錠５０ｍｇ小児用「杏林」 ＰＴＰ 10錠：100錠包装',\n",
       " '2021年11月27日：(出荷調整：2021年11月26日)ドンペリドン錠１０ｍｇ「杏林」 ＰＴＰ 10錠：100錠包装',\n",
       " '2021年11月27日：(出荷調整：2021年11月26日)ドンペリドン錠１０ｍｇ「杏林」 ＰＴＰ 10錠：1000錠包装']"
      ]
     },
     "execution_count": 4,
     "metadata": {},
     "output_type": "execute_result"
    }
   ],
   "source": [
    "dataList = textarea.string.splitlines()\n",
    "dataList = dataList[3:(len(dataList)-1)] # 先頭3行と最後1行はムダデータなので削除\n",
    "list(map(lambda x: x.replace('\\u3000', '：'), dataList)) #unicodeのスペースを：に置き換える"
   ]
  },
  {
   "cell_type": "code",
   "execution_count": 5,
   "metadata": {},
   "outputs": [],
   "source": [
    "medList = Medicine.create(dataList)"
   ]
  },
  {
   "cell_type": "code",
   "execution_count": 15,
   "metadata": {},
   "outputs": [
    {
     "data": {
      "text/plain": [
       "'モンテルカストＯＤ錠１０ｍｇ「タカタ」'"
      ]
     },
     "execution_count": 15,
     "metadata": {},
     "output_type": "execute_result"
    }
   ],
   "source": [
    "medList[0].name"
   ]
  },
  {
   "cell_type": "code",
   "execution_count": 17,
   "metadata": {},
   "outputs": [
    {
     "data": {
      "text/html": [
       "<div>\n",
       "<style scoped>\n",
       "    .dataframe tbody tr th:only-of-type {\n",
       "        vertical-align: middle;\n",
       "    }\n",
       "\n",
       "    .dataframe tbody tr th {\n",
       "        vertical-align: top;\n",
       "    }\n",
       "\n",
       "    .dataframe thead th {\n",
       "        text-align: right;\n",
       "    }\n",
       "</style>\n",
       "<table border=\"1\" class=\"dataframe\">\n",
       "  <thead>\n",
       "    <tr style=\"text-align: right;\">\n",
       "      <th></th>\n",
       "      <th>updateAt</th>\n",
       "      <th>type</th>\n",
       "      <th>date</th>\n",
       "      <th>name</th>\n",
       "      <th>sheet</th>\n",
       "      <th>unit</th>\n",
       "      <th>housou</th>\n",
       "    </tr>\n",
       "  </thead>\n",
       "  <tbody>\n",
       "    <tr>\n",
       "      <th>0</th>\n",
       "      <td>2021年11月27日</td>\n",
       "      <td>販売中止</td>\n",
       "      <td>2021年11月26日</td>\n",
       "      <td>モンテルカストＯＤ錠１０ｍｇ「タカタ」</td>\n",
       "      <td>ＰＴＰ</td>\n",
       "      <td>14錠</td>\n",
       "      <td>420錠包装</td>\n",
       "    </tr>\n",
       "    <tr>\n",
       "      <th>1</th>\n",
       "      <td>2021年11月27日</td>\n",
       "      <td>出荷調整</td>\n",
       "      <td>2021年11月26日</td>\n",
       "      <td>ドンペリドン錠５ｍｇ「杏林」</td>\n",
       "      <td>ＰＴＰ</td>\n",
       "      <td>10錠</td>\n",
       "      <td>100錠包装</td>\n",
       "    </tr>\n",
       "    <tr>\n",
       "      <th>2</th>\n",
       "      <td>2021年11月27日</td>\n",
       "      <td>出荷調整</td>\n",
       "      <td>2021年11月26日</td>\n",
       "      <td>クラリスロマイシン錠５０ｍｇ小児用「杏林」</td>\n",
       "      <td>ＰＴＰ</td>\n",
       "      <td>10錠</td>\n",
       "      <td>100錠包装</td>\n",
       "    </tr>\n",
       "    <tr>\n",
       "      <th>3</th>\n",
       "      <td>2021年11月27日</td>\n",
       "      <td>出荷調整</td>\n",
       "      <td>2021年11月26日</td>\n",
       "      <td>ドンペリドン錠１０ｍｇ「杏林」</td>\n",
       "      <td>ＰＴＰ</td>\n",
       "      <td>10錠</td>\n",
       "      <td>100錠包装</td>\n",
       "    </tr>\n",
       "    <tr>\n",
       "      <th>4</th>\n",
       "      <td>2021年11月27日</td>\n",
       "      <td>出荷調整</td>\n",
       "      <td>2021年11月26日</td>\n",
       "      <td>ドンペリドン錠１０ｍｇ「杏林」</td>\n",
       "      <td>ＰＴＰ</td>\n",
       "      <td>10錠</td>\n",
       "      <td>1000錠包装</td>\n",
       "    </tr>\n",
       "  </tbody>\n",
       "</table>\n",
       "</div>"
      ],
      "text/plain": [
       "      updateAt  type         date                   name sheet unit   housou\n",
       "0  2021年11月27日  販売中止  2021年11月26日    モンテルカストＯＤ錠１０ｍｇ「タカタ」   ＰＴＰ  14錠   420錠包装\n",
       "1  2021年11月27日  出荷調整  2021年11月26日         ドンペリドン錠５ｍｇ「杏林」   ＰＴＰ  10錠   100錠包装\n",
       "2  2021年11月27日  出荷調整  2021年11月26日  クラリスロマイシン錠５０ｍｇ小児用「杏林」   ＰＴＰ  10錠   100錠包装\n",
       "3  2021年11月27日  出荷調整  2021年11月26日        ドンペリドン錠１０ｍｇ「杏林」   ＰＴＰ  10錠   100錠包装\n",
       "4  2021年11月27日  出荷調整  2021年11月26日        ドンペリドン錠１０ｍｇ「杏林」   ＰＴＰ  10錠  1000錠包装"
      ]
     },
     "execution_count": 17,
     "metadata": {},
     "output_type": "execute_result"
    }
   ],
   "source": [
    "df = convertToDF(medList)\n",
    "df"
   ]
  },
  {
   "cell_type": "code",
   "execution_count": 10,
   "metadata": {},
   "outputs": [],
   "source": [
    "df.to_csv('drug.csv', index=False)"
   ]
  },
  {
   "cell_type": "code",
   "execution_count": null,
   "metadata": {},
   "outputs": [],
   "source": []
  }
 ],
 "metadata": {
  "interpreter": {
   "hash": "05fda0b18481f2b952849d68ae788ff0698a12b09f2e3d0dba00142652f1739c"
  },
  "kernelspec": {
   "display_name": "Python 3.8.8 64-bit ('base': conda)",
   "language": "python",
   "name": "python3"
  },
  "language_info": {
   "codemirror_mode": {
    "name": "ipython",
    "version": 3
   },
   "file_extension": ".py",
   "mimetype": "text/x-python",
   "name": "python",
   "nbconvert_exporter": "python",
   "pygments_lexer": "ipython3",
   "version": "3.8.8"
  },
  "orig_nbformat": 4
 },
 "nbformat": 4,
 "nbformat_minor": 2
}
